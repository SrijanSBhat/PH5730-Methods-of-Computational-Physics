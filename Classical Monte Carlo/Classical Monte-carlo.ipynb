{
 "cells": [
  {
   "cell_type": "code",
   "execution_count": null,
   "metadata": {},
   "outputs": [],
   "source": [
    "'''importing necessary libraries'''\n",
    "import numpy as np \n",
    "import scipy \n",
    "import matplotlib.pyplot as plt\n",
    "from numpy.random import rand\n",
    "from numba import njit"
   ]
  },
  {
   "cell_type": "markdown",
   "metadata": {},
   "source": [
    "# Square lattice\n",
    "This is the simulation of Ising model using the Classical Monte Carlo method. \\\n",
    "Run the code in order \\"
   ]
  },
  {
   "cell_type": "markdown",
   "metadata": {},
   "source": [
    "## Ferromagnetic Coupling, J = -1"
   ]
  },
  {
   "cell_type": "code",
   "execution_count": null,
   "metadata": {},
   "outputs": [],
   "source": [
    "#Defining the variables required\n",
    "J = -1\n",
    "n = 16 #Change the size of the system here\n",
    "t_iters = 5000 # Thermalisation steps\n",
    "c_iters = 15000 #Calculations steps\n",
    "t_pts = 200 # No of temperature points\n",
    "norm = 1.0/(c_iters*n*n) #Normalisation factors\n",
    "norm2 = 1.0/(c_iters**2 * n**2)\n",
    "Temperatures = np.linspace(0.5, 7, t_pts) \n",
    "E,M,C,X = np.zeros(t_pts), np.zeros(t_pts), np.zeros(t_pts), np.zeros(t_pts) #Energy; Magnetization; Specific Heat; Susceptibility\n"
   ]
  },
  {
   "cell_type": "code",
   "execution_count": null,
   "metadata": {},
   "outputs": [],
   "source": [
    "def lattice_init(n):\n",
    "    '''Initialising the lattice of size nxn randomly'''\n",
    "    lattice = np.random.choice(np.array([-1, 1]), size=(n,n))\n",
    "    return lattice\n",
    "\n",
    "def change_state(arr):\n",
    "    '''Flip one random spin in a copy of the lattice (Numba-compatible)'''\n",
    "    i = int(np.floor(np.random.random() * arr.shape[0]))\n",
    "    j = int(np.floor(np.random.random() * arr.shape[1]))\n",
    "    \n",
    "    new_arr = arr.copy()\n",
    "    new_arr[i, j] *= -1\n",
    "    return new_arr\n",
    "\n",
    "def energy_calc(arr, J):\n",
    "    '''numpy.roll() is a function which shifts an array by \n",
    "        one row or column with the last one replacing the first. \n",
    "        This is used to get the periodic boundary condition'''\n",
    "    energy = J*np.sum(\n",
    "        arr * (\n",
    "            np.roll(arr, shift=1, axis=0) +\n",
    "            np.roll(arr, shift=-1, axis=0) +\n",
    "            np.roll(arr, shift=1, axis=1) +\n",
    "            np.roll(arr, shift=-1, axis=1)\n",
    "        )\n",
    "    )\n",
    "    return energy\n",
    "\n",
    "def mag_calc(arr):\n",
    "    '''Calculate magnetization'''\n",
    "    mag = np.sum(arr)\n",
    "    return mag"
   ]
  },
  {
   "cell_type": "code",
   "execution_count": null,
   "metadata": {},
   "outputs": [],
   "source": [
    "def thermalisation(lattice, iters, no_flips, beta, J):\n",
    "    '''This function is used to attain a equilibrium state before beginning calculations'''\n",
    "    E = energy_calc(lattice, J)\n",
    "    for i in range(iters):\n",
    "        a = lattice.copy()\n",
    "        for k in range(no_flips):\n",
    "            new_state = change_state(a)\n",
    "        new_E = energy_calc(new_state, J)\n",
    "        if new_E - E < 0:\n",
    "            lattice = new_state\n",
    "            E = new_E\n",
    "        elif np.random.rand() < np.exp((E-new_E) * beta):\n",
    "            lattice = new_state\n",
    "            E = new_E\n",
    "    return lattice"
   ]
  },
  {
   "cell_type": "code",
   "execution_count": null,
   "metadata": {},
   "outputs": [],
   "source": [
    "def calculation(lattice, beta):    \n",
    "    '''Calculations after equilibrium. Each spin is given a probability of change here'''\n",
    "    for t in range(n*n):\n",
    "        a = np.random.randint(0, n)\n",
    "        b = np.random.randint(0, n)\n",
    "        s =  lattice[a, b]\n",
    "        neighbours = lattice[(a+1)%n,b] + lattice[a,(b+1)%n] + lattice[(a-1)%n,b] + lattice[a,(b-1)%n]\n",
    "        prob = 2*s*neighbours\n",
    "        if prob < 0:\n",
    "            s *= -1\n",
    "        elif rand() < np.exp(-prob*beta):\n",
    "            s *= -1\n",
    "        lattice[a, b] = s\n",
    "    return lattice"
   ]
  },
  {
   "cell_type": "code",
   "execution_count": null,
   "metadata": {},
   "outputs": [],
   "source": [
    "'''Main loop for monte carlo. t_iter steps are used to attain thermalisation. Calculaltions are made only after t_iter steps for c_iter steps'''\n",
    "for t in range(t_pts):\n",
    "    E1 = 0.\n",
    "    E2 = 0.\n",
    "    M1 = 0.\n",
    "    M2 = 0.\n",
    "    init_lattice = lattice_init(n)\n",
    "    beta = 1.0/Temperatures[t]\n",
    "    lattice = thermalisation(init_lattice, t_iters, n*n, beta, J)\n",
    "    for i in range(c_iters):\n",
    "        lattice = calculation(lattice, beta)\n",
    "        energy = energy_calc(lattice, J)\n",
    "        mag = mag_calc(lattice)\n",
    "        \n",
    "        E1 += energy\n",
    "        M1 += mag\n",
    "        E2 += energy*energy\n",
    "        M2 += mag*mag\n",
    "    \n",
    "    E[t] = E1*norm\n",
    "    M[t] = M1*norm\n",
    "    C[t] = (E2*norm - E1*E1*norm2) * beta**2\n",
    "    X[t] = (M2*norm - M1*M1*norm2) * beta"
   ]
  },
  {
   "cell_type": "markdown",
   "metadata": {},
   "source": [
    "### Plotting"
   ]
  },
  {
   "cell_type": "code",
   "execution_count": null,
   "metadata": {},
   "outputs": [],
   "source": [
    "fig = plt.figure(figsize=(18, 10)); \n",
    "\n",
    "ax =  fig.add_subplot(2, 2, 1 )\n",
    "plt.scatter(Temperatures, E, s=10, marker='o', color='Red')\n",
    "plt.xlabel(\"Temperature (T)\", fontsize=20)\n",
    "plt.ylabel(\"Energy \", fontsize=20)\n",
    "plt.axis('tight')\n",
    "\n",
    "ax =  fig.add_subplot(2, 2, 2 )\n",
    "plt.scatter(Temperatures, abs(M), s=10, marker='o', color='Blue')\n",
    "plt.xlabel(\"Temperature (T)\", fontsize=20)\n",
    "plt.ylabel(\"Magnetization \", fontsize=20)\n",
    "plt.axis('tight')\n",
    "\n",
    "ax =  fig.add_subplot(2, 2, 3 )\n",
    "plt.scatter(Temperatures, C, s=10, marker='o', color='Red')\n",
    "plt.xlabel(\"Temperature (T)\", fontsize=20)\n",
    "plt.ylabel(\"Specific Heat \", fontsize=20)   \n",
    "plt.axis('tight')  \n",
    "\n",
    "ax =  fig.add_subplot(2, 2, 4 )\n",
    "plt.scatter(Temperatures, X, s=10, marker='o', color='Blue')\n",
    "plt.xlabel(\"Temperature (T)\", fontsize=20)\n",
    "plt.ylabel(\"Susceptibility\", fontsize=20)   \n",
    "plt.axis('tight')"
   ]
  },
  {
   "cell_type": "markdown",
   "metadata": {},
   "source": [
    "# Antiferromagnetic Coupling, J = 1"
   ]
  },
  {
   "cell_type": "code",
   "execution_count": null,
   "metadata": {},
   "outputs": [],
   "source": [
    "J_ = 1\n",
    "E_,M_,C_,X_ = np.zeros(t_pts), np.zeros(t_pts), np.zeros(t_pts), np.zeros(t_pts)"
   ]
  },
  {
   "cell_type": "code",
   "execution_count": null,
   "metadata": {},
   "outputs": [],
   "source": [
    "@njit\n",
    "def calculation_anti(lattice, beta):    \n",
    "    '''Calculations after equilibrium. Each spin is given a probability of change here'''\n",
    "    for t in range(n*n):\n",
    "        a = np.random.randint(0, n)\n",
    "        b = np.random.randint(0, n)\n",
    "        s =  lattice[a, b]\n",
    "        neighbours = lattice[(a+1)%n,b] + lattice[a,(b+1)%n] + lattice[(a-1)%n,b] + lattice[a,(b-1)%n]\n",
    "        prob = -2*s*neighbours\n",
    "        if prob < 0:\n",
    "            s *= -1\n",
    "        elif rand() < np.exp(-prob*beta):\n",
    "            s *= -1\n",
    "        lattice[a, b] = s\n",
    "    return lattice"
   ]
  },
  {
   "cell_type": "code",
   "execution_count": null,
   "metadata": {},
   "outputs": [],
   "source": [
    "'''Main Loop for antiferromagnetic loop'''\n",
    "for t in range(t_pts):\n",
    "    E1 = 0.\n",
    "    E2 = 0.\n",
    "    M1 = 0.\n",
    "    M2 = 0.\n",
    "    init_lattice = lattice_init(n)\n",
    "    beta = 1.0/Temperatures[t]\n",
    "    lattice = thermalisation(init_lattice, t_iters, n*n, beta, J_)\n",
    "    for i in range(c_iters):\n",
    "        lattice = calculation_anti(lattice, beta)\n",
    "        energy = energy_calc(lattice, J_)\n",
    "        mag = mag_calc(lattice)\n",
    "        \n",
    "        E1 += energy\n",
    "        M1 += mag\n",
    "        E2 += energy*energy\n",
    "        M2 += mag*mag\n",
    "    \n",
    "    E_[t] = E1*norm\n",
    "    M_[t] = M1*norm\n",
    "    C_[t] = (E2*norm - E1*E1*norm2) * beta**2\n",
    "    X_[t] = (M2*norm - M1*M1*norm2) * beta"
   ]
  },
  {
   "cell_type": "code",
   "execution_count": null,
   "metadata": {},
   "outputs": [],
   "source": [
    "#Plotting\n",
    "fig = plt.figure(figsize=(18, 10)); \n",
    "\n",
    "ax =  fig.add_subplot(2, 2, 1 )\n",
    "plt.scatter(Temperatures, E_, s=10, marker='o', color='Red')\n",
    "plt.xlabel(\"Temperature (T)\", fontsize=20)\n",
    "plt.ylabel(\"Energy \", fontsize=20)\n",
    "plt.axis('tight')\n",
    "\n",
    "ax =  fig.add_subplot(2, 2, 2 )\n",
    "plt.scatter(Temperatures, abs(M_), s=10, marker='o', color='Blue')\n",
    "plt.xlabel(\"Temperature (T)\", fontsize=20)\n",
    "plt.ylabel(\"Magnetization \", fontsize=20)\n",
    "plt.axis('tight')\n",
    "\n",
    "ax =  fig.add_subplot(2, 2, 3 )\n",
    "plt.scatter(Temperatures, C_, s=10, marker='o', color='Red')\n",
    "plt.xlabel(\"Temperature (T)\", fontsize=20)\n",
    "plt.ylabel(\"Specific Heat \", fontsize=20)   \n",
    "plt.axis('tight')  \n",
    "\n",
    "ax =  fig.add_subplot(2, 2, 4 )\n",
    "plt.scatter(Temperatures, X_, s=10, marker='o', color='Blue')\n",
    "plt.xlabel(\"Temperature (T)\", fontsize=20)\n",
    "plt.ylabel(\"Susceptibility\", fontsize=20)   \n",
    "plt.axis('tight')"
   ]
  },
  {
   "cell_type": "code",
   "execution_count": null,
   "metadata": {},
   "outputs": [],
   "source": []
  }
 ],
 "metadata": {
  "kernelspec": {
   "display_name": "main",
   "language": "python",
   "name": "python3"
  },
  "language_info": {
   "codemirror_mode": {
    "name": "ipython",
    "version": 3
   },
   "file_extension": ".py",
   "mimetype": "text/x-python",
   "name": "python",
   "nbconvert_exporter": "python",
   "pygments_lexer": "ipython3",
   "version": "3.13.2"
  }
 },
 "nbformat": 4,
 "nbformat_minor": 2
}
